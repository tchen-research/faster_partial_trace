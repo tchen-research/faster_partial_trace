{
 "cells": [
  {
   "cell_type": "code",
   "execution_count": 1,
   "metadata": {},
   "outputs": [
    {
     "name": "stderr",
     "output_type": "stream",
     "text": [
      "/Users/muddy_flesh/opt/anaconda3/lib/python3.9/site-packages/scipy/__init__.py:146: UserWarning: A NumPy version >=1.16.5 and <1.23.0 is required for this version of SciPy (detected version 1.23.4\n",
      "  warnings.warn(f\"A NumPy version >={np_minversion} and <{np_maxversion}\"\n"
     ]
    }
   ],
   "source": [
    "import numpy as np\n",
    "import scipy as sp\n",
    "from scipy import io,integrate,sparse,signal\n",
    "\n",
    "import matplotlib.pyplot as plt\n",
    "\n",
    "import os,sys\n",
    "sys.path.insert(0, '..')\n",
    "\n",
    "from partial_trace import *\n",
    "#from lanczos_bin import mystep,distribution\n",
    "\n",
    "from IPython.display import clear_output\n",
    "np.set_printoptions(linewidth=300)\n",
    "%load_ext autoreload\n",
    "%autoreload 2"
   ]
  },
  {
   "cell_type": "code",
   "execution_count": 2,
   "metadata": {},
   "outputs": [],
   "source": [
    "s = 1/2\n",
    "\n",
    "M = int(2*s+1)\n",
    "\n",
    "N = 12\n",
    "n = M**N\n",
    "\n",
    "N_s = 2\n",
    "N_b = N-N_s\n",
    "d_a = M**N_s\n",
    "d_b = M**N_b\n",
    "\n",
    "J_t = np.zeros((N,N))\n",
    "for i in range(N):\n",
    "    for j in range(N):\n",
    "        if np.abs(i-j)==1:\n",
    "            J_t[i,j] = 1\n",
    "            \n",
    "J = 1\n",
    "\n",
    "Jx = (J/2)*J_t\n",
    "Jy = (J/2)*J_t\n",
    "Jz = 0*J_t"
   ]
  },
  {
   "cell_type": "code",
   "execution_count": 3,
   "metadata": {},
   "outputs": [],
   "source": [
    "# save system parameters\n",
    "directory = f'data'\n",
    "np.save(f'{directory}/dimensions.npy',[s,N,N_s],allow_pickle=True)\n",
    "np.save(f'{directory}/couplings.npy',[Jx,Jy,Jz],allow_pickle=True)\n",
    "H1 = get_hamiltonian(Jx,Jy,Jz,0,s)\n",
    "H2 = get_hamiltonian(0*J_t,0*J_t,0*J_t,1,s)\n",
    "sp.sparse.save_npz(f'{directory}/H1',H1)\n",
    "sp.sparse.save_npz(f'{directory}/H2',H2)\n",
    "\n"
   ]
  },
  {
   "cell_type": "code",
   "execution_count": 4,
   "metadata": {},
   "outputs": [
    {
     "name": "stdout",
     "output_type": "stream",
     "text": [
      "0,2.5,5.199e-01,2.220e-16,6.783e-01,10\n",
      "0,1.25,5.199e-01,6.783e-01,5.825e-01,9\n",
      "0,0.625,5.199e-01,5.825e-01,5.825e-01,8\n",
      "0,0.3125,5.199e-01,5.825e-01,5.199e-01,7\n",
      "0.15625,0.3125,5.199e-01,5.825e-01,5.199e-01,6\n",
      "0.234375,0.3125,5.199e-01,5.825e-01,5.825e-01,5\n",
      "0.234375,0.2734375,5.199e-01,5.825e-01,5.825e-01,4\n",
      "0.234375,0.25390625,5.199e-01,5.825e-01,5.825e-01,3\n",
      "0.234375,0.244140625,5.199e-01,5.825e-01,5.199e-01,2\n",
      "0.2392578125,0.244140625,5.199e-01,5.825e-01,5.825e-01,1\n",
      "0.625,1.25,5.825e-01,6.783e-01,6.895e-01,8\n",
      "0.625,0.9375,5.825e-01,6.895e-01,6.895e-01,7\n",
      "0.625,0.78125,5.825e-01,6.895e-01,5.825e-01,6\n",
      "0.703125,0.78125,5.825e-01,6.895e-01,6.895e-01,5\n",
      "0.703125,0.7421875,5.825e-01,6.895e-01,6.895e-01,4\n",
      "0.703125,0.72265625,5.825e-01,6.895e-01,6.895e-01,3\n",
      "0.703125,0.712890625,5.825e-01,6.895e-01,5.825e-01,2\n",
      "0.7080078125,0.712890625,5.825e-01,6.895e-01,6.895e-01,1\n",
      "1.25,2.5,6.783e-01,2.220e-16,1.744e-01,9\n",
      "1.25,1.875,6.783e-01,1.744e-01,4.710e-01,8\n",
      "1.25,1.5625,6.783e-01,4.710e-01,6.783e-01,7\n",
      "1.40625,1.5625,6.783e-01,4.710e-01,6.783e-01,6\n",
      "1.484375,1.5625,6.783e-01,4.710e-01,4.710e-01,5\n",
      "1.484375,1.5234375,6.783e-01,4.710e-01,4.710e-01,4\n",
      "1.484375,1.50390625,6.783e-01,4.710e-01,6.783e-01,3\n",
      "1.494140625,1.50390625,6.783e-01,4.710e-01,4.710e-01,2\n",
      "1.494140625,1.4990234375,6.783e-01,4.710e-01,6.783e-01,1\n",
      "1.5625,1.875,4.710e-01,1.744e-01,4.710e-01,7\n",
      "1.71875,1.875,4.710e-01,1.744e-01,1.744e-01,6\n",
      "1.71875,1.796875,4.710e-01,1.744e-01,4.710e-01,5\n",
      "1.7578125,1.796875,4.710e-01,1.744e-01,1.744e-01,4\n",
      "1.7578125,1.77734375,4.710e-01,1.744e-01,4.710e-01,3\n",
      "1.767578125,1.77734375,4.710e-01,1.744e-01,1.744e-01,2\n",
      "1.767578125,1.7724609375,4.710e-01,1.744e-01,4.710e-01,1\n",
      "1.875,2.5,1.744e-01,2.220e-16,-6.661e-16,8\n",
      "1.875,2.1875,1.744e-01,-6.661e-16,1.139e-27,7\n",
      "1.875,2.03125,1.744e-01,1.139e-27,-2.220e-16,6\n",
      "1.875,1.953125,1.744e-01,-2.220e-16,1.744e-01,5\n",
      "1.9140625,1.953125,1.744e-01,-2.220e-16,1.744e-01,4\n",
      "1.93359375,1.953125,1.744e-01,-2.220e-16,2.152e-13,3\n",
      "1.93359375,1.943359375,1.744e-01,2.152e-13,1.744e-01,2\n",
      "1.9384765625,1.943359375,1.744e-01,2.152e-13,1.744e-01,1\n"
     ]
    }
   ],
   "source": [
    "# Find the jumping points at the ground states\n",
    "h_min = 0\n",
    "h_max = 2.5\n",
    "iterations = 10\n",
    "tolerance = 2e-2\n",
    "turning_points = []\n",
    "binary_search_recursive(lambda h: ground_state_function_smooth(h,H1,H2,d_a,d_b,k=5,β=1e5), h_min, h_max, iterations, tolerance, turning_points)\n",
    "turning_points = np.hstack([[h_min],turning_points,[h_max]])"
   ]
  },
  {
   "cell_type": "code",
   "execution_count": 5,
   "metadata": {},
   "outputs": [
    {
     "data": {
      "text/plain": [
       "array([0.        , 0.24047852, 0.70922852, 1.49780273, 1.77124023, 1.94213867, 2.5       ])"
      ]
     },
     "execution_count": 5,
     "metadata": {},
     "output_type": "execute_result"
    }
   ],
   "source": [
    "turning_points"
   ]
  },
  {
   "cell_type": "code",
   "execution_count": 6,
   "metadata": {},
   "outputs": [],
   "source": [
    "acc = (h_max-h_min)/2**iterations # accuracy of turning points\n",
    "total_nodes = 100\n",
    "num_nodes,hs = scaled_cheby(turning_points, total_nodes) # use chebyshev nodes to interpolate points between\n",
    "hs = np.hstack([turning_points[1:]-acc,turning_points[:-1]+acc,hs]) # add points to the left and right of the boundaries"
   ]
  },
  {
   "cell_type": "code",
   "execution_count": 7,
   "metadata": {},
   "outputs": [],
   "source": [
    "np.save(f'{directory}/turning_points.npy',turning_points)\n",
    "np.save(f'{directory}/num_nodes.npy',num_nodes)"
   ]
  },
  {
   "cell_type": "code",
   "execution_count": 8,
   "metadata": {},
   "outputs": [],
   "source": [
    "# Set the number of eigenvalues and deflations\n",
    "k = 5\n",
    "m = 25"
   ]
  },
  {
   "cell_type": "code",
   "execution_count": 9,
   "metadata": {},
   "outputs": [
    {
     "name": "stderr",
     "output_type": "stream",
     "text": [
      "/Users/muddy_flesh/opt/anaconda3/lib/python3.9/site-packages/scipy/__init__.py:146: UserWarning: A NumPy version >=1.16.5 and <1.23.0 is required for this version of SciPy (detected version 1.23.4\n",
      "  warnings.warn(f\"A NumPy version >={np_minversion} and <{np_maxversion}\"\n"
     ]
    }
   ],
   "source": [
    "# run the driver file to generate all the data files needed for the plot.\n",
    "data_directory = f'data'\n",
    "os.makedirs(f'{directory}/{data_directory}',exist_ok=True) # make subdirectory for data files\n",
    "\n",
    "out_all = []\n",
    "for hi,h in enumerate(hs):\n",
    "    experiment_name = f'{h}'\n",
    "    print(f'field strength: {hi} of {len(hs)}, {experiment_name}')\n",
    "    clear_output(wait=True)\n",
    "    os.system(f'python vN_entropy_phase_driver.py {h} {k} {m} {directory} {experiment_name} {data_directory}')"
   ]
  }
 ],
 "metadata": {
  "interpreter": {
   "hash": "5fea500c623680b873cc68ee53e151ff907d244ddea26d5d6dd1e5b90c139965"
  },
  "kernelspec": {
   "display_name": "Python 3.9.7 ('base')",
   "language": "python",
   "name": "python3"
  },
  "language_info": {
   "codemirror_mode": {
    "name": "ipython",
    "version": 3
   },
   "file_extension": ".py",
   "mimetype": "text/x-python",
   "name": "python",
   "nbconvert_exporter": "python",
   "pygments_lexer": "ipython3",
   "version": "3.9.7"
  },
  "orig_nbformat": 4
 },
 "nbformat": 4,
 "nbformat_minor": 2
}
