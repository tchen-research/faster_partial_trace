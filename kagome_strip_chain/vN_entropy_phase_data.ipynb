{
 "cells": [
  {
   "cell_type": "code",
   "execution_count": 1,
   "metadata": {},
   "outputs": [],
   "source": [
    "import numpy as np\n",
    "import scipy as sp\n",
    "from scipy import io,integrate,sparse,signal\n",
    "\n",
    "import matplotlib.pyplot as plt\n",
    "\n",
    "import os,sys\n",
    "sys.path.insert(0, '..')\n",
    "\n",
    "from partial_trace import *\n",
    "#from lanczos_bin import mystep,distribution\n",
    "\n",
    "from IPython.display import clear_output\n",
    "np.set_printoptions(linewidth=300)\n",
    "%load_ext autoreload\n",
    "%autoreload 2"
   ]
  },
  {
   "cell_type": "code",
   "execution_count": 2,
   "metadata": {},
   "outputs": [],
   "source": [
    "s = 1/2\n",
    "\n",
    "M = int(2*s+1)\n",
    "\n",
    "Nc = 3 # number of clusters\n",
    "\n",
    "N = Nc*5\n",
    "N_s = 5\n",
    "N_b = N-N_s\n",
    "d_a = M**N_s\n",
    "d_b = M**N_b"
   ]
  },
  {
   "cell_type": "code",
   "execution_count": 3,
   "metadata": {},
   "outputs": [],
   "source": [
    "# Generate the adjacency matrix for Kagome strip chain\n",
    "Jcx = np.zeros((5,5))\n",
    "Jcx[0,1:] = 1\n",
    "Jcx[1:,0] = 1\n",
    "\n",
    "Jx = np.kron(np.eye(Nc),Jcx)\n",
    "\n",
    "Jc1 = np.zeros((5,5))\n",
    "Jc1[1,2] = 1\n",
    "Jc1[3,4] = 1\n",
    "Jc1 += Jc1.T\n",
    "\n",
    "J1 = np.kron(np.eye(Nc),Jc1)\n",
    "\n",
    "J2 = np.zeros((N,N))\n",
    "for i in range(Nc):\n",
    "    J2[i*5+2,((i+1)*5+1)%N] = 1\n",
    "    J2[i*5+4,((i+1)*5+3)%N] = 1\n",
    "\n",
    "J2 += J2.T"
   ]
  },
  {
   "cell_type": "code",
   "execution_count": 5,
   "metadata": {},
   "outputs": [],
   "source": [
    "J1_strength = 1\n",
    "J2_strength = .1 # Change the strength to vary the couplings\n",
    "\n",
    "J = Jx + J1_strength*J1 + J2_strength*J2"
   ]
  },
  {
   "cell_type": "code",
   "execution_count": 6,
   "metadata": {},
   "outputs": [],
   "source": [
    "# Builde Hamiltonian\n",
    "H1 = get_hamiltonian(J,J,J,0,s)\n",
    "H2 = get_hamiltonian(0*J,0*J,0*J,1,s)"
   ]
  },
  {
   "cell_type": "code",
   "execution_count": 7,
   "metadata": {},
   "outputs": [
    {
     "name": "stdout",
     "output_type": "stream",
     "text": [
      "0,3,1.819e+00,2.375e-03,7.801e-01,10\n",
      "0,1.5,1.819e+00,7.801e-01,7.801e-01,9\n",
      "0,0.75,1.819e+00,7.801e-01,7.801e-01,8\n",
      "0,0.375,1.819e+00,7.801e-01,1.732e+00,7\n",
      "0,0.1875,1.819e+00,1.732e+00,1.732e+00,6\n",
      "0,0.09375,1.819e+00,1.732e+00,1.732e+00,5\n",
      "0,0.046875,1.819e+00,1.732e+00,1.732e+00,4\n",
      "0,0.0234375,1.819e+00,1.732e+00,1.732e+00,3\n",
      "0,0.01171875,1.819e+00,1.732e+00,1.732e+00,2\n",
      "0,0.005859375,1.819e+00,1.732e+00,1.732e+00,1\n",
      "0.1875,0.375,1.732e+00,7.801e-01,1.732e+00,6\n",
      "0.28125,0.375,1.732e+00,7.801e-01,7.801e-01,5\n",
      "0.28125,0.328125,1.732e+00,7.801e-01,1.732e+00,4\n",
      "0.3046875,0.328125,1.732e+00,7.801e-01,1.732e+00,3\n",
      "0.31640625,0.328125,1.732e+00,7.801e-01,7.801e-01,2\n",
      "0.31640625,0.322265625,1.732e+00,7.801e-01,1.732e+00,1\n",
      "1.5,3,7.801e-01,2.375e-03,6.419e-01,9\n",
      "1.5,2.25,7.801e-01,6.419e-01,7.801e-01,8\n",
      "1.875,2.25,7.801e-01,6.419e-01,1.130e+00,7\n",
      "1.875,2.0625,7.801e-01,1.130e+00,7.801e-01,6\n",
      "1.96875,2.0625,7.801e-01,1.130e+00,1.130e+00,5\n",
      "1.96875,2.015625,7.801e-01,1.130e+00,7.801e-01,4\n",
      "1.9921875,2.015625,7.801e-01,1.130e+00,1.130e+00,3\n",
      "1.9921875,2.00390625,7.801e-01,1.130e+00,1.130e+00,2\n",
      "1.9921875,1.998046875,7.801e-01,1.130e+00,1.130e+00,1\n",
      "2.0625,2.25,1.130e+00,6.419e-01,1.130e+00,6\n",
      "2.15625,2.25,1.130e+00,6.419e-01,1.130e+00,5\n",
      "2.203125,2.25,1.130e+00,6.419e-01,1.130e+00,4\n",
      "2.2265625,2.25,1.130e+00,6.419e-01,1.130e+00,3\n",
      "2.23828125,2.25,1.130e+00,6.419e-01,1.130e+00,2\n",
      "2.244140625,2.25,1.130e+00,6.419e-01,1.130e+00,1\n",
      "2.25,3,6.419e-01,2.375e-03,2.375e-03,8\n",
      "2.25,2.625,6.419e-01,2.375e-03,2.375e-03,7\n",
      "2.25,2.4375,6.419e-01,2.375e-03,6.419e-01,6\n",
      "2.34375,2.4375,6.419e-01,2.375e-03,2.375e-03,5\n",
      "2.34375,2.390625,6.419e-01,2.375e-03,6.419e-01,4\n",
      "2.3671875,2.390625,6.419e-01,2.375e-03,2.375e-03,3\n",
      "2.3671875,2.37890625,6.419e-01,2.375e-03,6.407e-01,2\n",
      "2.373046875,2.37890625,6.407e-01,2.375e-03,2.375e-03,1\n"
     ]
    }
   ],
   "source": [
    "# Find the jumping points at the ground states\n",
    "h_min = 0\n",
    "h_max = 3\n",
    "iterations = 10\n",
    "tolerance = 2e-2\n",
    "turning_points = []\n",
    "binary_search_recursive(lambda h: ground_state_function_smooth(h,H1,H2,d_a,d_b,k=5,β=1e5), h_min, h_max, iterations, tolerance, turning_points)\n",
    "turning_points = np.hstack([[h_min],turning_points,[h_max]])"
   ]
  },
  {
   "cell_type": "code",
   "execution_count": 11,
   "metadata": {},
   "outputs": [
    {
     "data": {
      "text/plain": [
       "array([0.00000000e+00, 1.46484375e-03, 3.20800781e-01, 1.99365234e+00, 2.24853516e+00, 2.37451172e+00, 3.00000000e+00])"
      ]
     },
     "execution_count": 11,
     "metadata": {},
     "output_type": "execute_result"
    }
   ],
   "source": [
    "turning_points"
   ]
  },
  {
   "cell_type": "code",
   "execution_count": 8,
   "metadata": {},
   "outputs": [],
   "source": [
    "acc = (h_max-h_min)/2**iterations # accuracy of turning points\n",
    "total_nodes = 100\n",
    "num_nodes,hs = scaled_cheby(turning_points, total_nodes) # use chebyshev nodes to interpolate points between\n",
    "hs = np.hstack([turning_points[1:]-acc,turning_points[:-1]+acc,hs]) # add points to the left and right of the boundaries"
   ]
  },
  {
   "cell_type": "code",
   "execution_count": 9,
   "metadata": {},
   "outputs": [],
   "source": [
    "# save system parameters\n",
    "directory = f'data'\n",
    "np.save(f'{directory}/dimensions.npy',[s,N,N_s],allow_pickle=True)\n",
    "np.save(f'{directory}/couplings.npy',[J,J,J],allow_pickle=True)\n",
    "sp.sparse.save_npz(f'{directory}/H1',H1)\n",
    "sp.sparse.save_npz(f'{directory}/H2',H2)\n",
    "np.save(f'{directory}/turning_points.npy',turning_points)\n",
    "np.save(f'{directory}/num_nodes.npy',num_nodes)"
   ]
  },
  {
   "cell_type": "code",
   "execution_count": 10,
   "metadata": {},
   "outputs": [],
   "source": [
    "# Set the number of eigenvalues and deflations\n",
    "k = 5\n",
    "m = 25"
   ]
  },
  {
   "cell_type": "code",
   "execution_count": 13,
   "metadata": {},
   "outputs": [
    {
     "name": "stderr",
     "output_type": "stream",
     "text": [
      "/Users/muddy_flesh/opt/anaconda3/lib/python3.9/site-packages/scipy/__init__.py:146: UserWarning: A NumPy version >=1.16.5 and <1.23.0 is required for this version of SciPy (detected version 1.23.4\n",
      "  warnings.warn(f\"A NumPy version >={np_minversion} and <{np_maxversion}\"\n"
     ]
    }
   ],
   "source": [
    "# run the driver file to generate all the data files needed for the plot.\n",
    "data_directory = f'data'\n",
    "os.makedirs(f'{directory}/{data_directory}',exist_ok=True) # make subdirectory for data files\n",
    "\n",
    "out_all = []\n",
    "for hi,h in enumerate(hs):\n",
    "    experiment_name = f'{h}'\n",
    "    print(f'field strength: {hi} of {len(hs)}, {experiment_name}')\n",
    "    clear_output(wait=True)\n",
    "    os.system(f'python vN_entropy_phase_driver.py {h} {k} {m} {directory} {experiment_name} {data_directory}')"
   ]
  }
 ],
 "metadata": {
  "interpreter": {
   "hash": "aee8b7b246df8f9039afb4144a1f6fd8d2ca17a180786b69acc140d282b71a49"
  },
  "kernelspec": {
   "display_name": "Python 3.9.7 64-bit",
   "language": "python",
   "name": "python3"
  },
  "language_info": {
   "codemirror_mode": {
    "name": "ipython",
    "version": 3
   },
   "file_extension": ".py",
   "mimetype": "text/x-python",
   "name": "python",
   "nbconvert_exporter": "python",
   "pygments_lexer": "ipython3",
   "version": "3.9.7"
  },
  "orig_nbformat": 4
 },
 "nbformat": 4,
 "nbformat_minor": 2
}
